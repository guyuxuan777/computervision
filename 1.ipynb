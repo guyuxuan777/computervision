{
 "cells": [
  {
   "cell_type": "code",
   "execution_count": 39,
   "metadata": {},
   "outputs": [
    {
     "name": "stdout",
     "output_type": "stream",
     "text": [
      "통장에서100출금되었음\n",
      "통장에1100입금되었음\n"
     ]
    },
    {
     "data": {
      "text/plain": [
       "1100"
      ]
     },
     "execution_count": 39,
     "metadata": {},
     "output_type": "execute_result"
    }
   ],
   "source": [
    "class BANK:\n",
    "    def __init__(self,money=0):\n",
    "        self.__money=money\n",
    "    def withdraw(self,a):\n",
    "        self.__money=a\n",
    "        print(\"통장에서%d출금되었음\"%self.__money)\n",
    "        return self.__money\n",
    "    def deposit(self,a):\n",
    "        self.__money+=a\n",
    "        print(\"통장에%d입금되었음\"%self.__money)\n",
    "        return self.__money\n",
    "a=BANK()\n",
    "a.withdraw(100)\n",
    "a.deposit(1000)\n"
   ]
  },
  {
   "cell_type": "code",
   "execution_count": 42,
   "metadata": {},
   "outputs": [
    {
     "name": "stdout",
     "output_type": "stream",
     "text": [
      "10 2000 True\n"
     ]
    }
   ],
   "source": [
    "class TV:\n",
    "    def __init__(self,channel,volume,on):\n",
    "        self.channel=channel\n",
    "        self.volume=volume\n",
    "        self.on=on\n",
    "    def show(self):\n",
    "        print(self.channel,self.volume,self.on)\n",
    "        \n",
    "\n",
    "def a(t):\n",
    "    t.volume=2000\n",
    "b=TV(10,20,True)\n",
    "a(b)\n",
    "b.show()"
   ]
  },
  {
   "cell_type": "code",
   "execution_count": 48,
   "metadata": {},
   "outputs": [
    {
     "data": {
      "text/plain": [
       "1000"
      ]
     },
     "execution_count": 48,
     "metadata": {},
     "output_type": "execute_result"
    }
   ],
   "source": [
    "import math\n",
    "class Circle:\n",
    "    def __init__(self,radius=1.0):\n",
    "        self.__radius=radius\n",
    "    def setredius(self,r):\n",
    "        self.__radius=r\n",
    "        return self.__radius\n",
    "    def getredius(self):\n",
    "        return self.__radius\n",
    "a=Circle()\n",
    "a.setredius(1000)    \n",
    "a.getredius()"
   ]
  },
  {
   "cell_type": "code",
   "execution_count": 55,
   "metadata": {},
   "outputs": [
    {
     "data": {
      "text/plain": [
       "['a', 'i', 'love', 'you']"
      ]
     },
     "execution_count": 55,
     "metadata": {},
     "output_type": "execute_result"
    }
   ],
   "source": [
    "sorted(\"i a love you\".split(),key=str.lower)"
   ]
  },
  {
   "cell_type": "code",
   "execution_count": 57,
   "metadata": {},
   "outputs": [
    {
     "data": {
      "text/plain": [
       "[('1', 72), ('2', 15), ('3', 20)]"
      ]
     },
     "execution_count": 57,
     "metadata": {},
     "output_type": "execute_result"
    }
   ],
   "source": [
    "order=[[\"1\",6,12],[\"2\",3,5],[\"3\",2,10]]\n",
    "p=list(map(lambda x:(x[0],x[1]*x[2]),order))\n",
    "p"
   ]
  },
  {
   "cell_type": "code",
   "execution_count": 69,
   "metadata": {},
   "outputs": [],
   "source": [
    "def test(a):\n",
    "    \n",
    "    \n",
    "    def test_in(b):\n",
    "        \n",
    "        return a+b\n",
    "        \n",
    "    return test_in\n",
    "\n",
    "\n",
    "res = test(10)(20)\n"
   ]
  },
  {
   "cell_type": "code",
   "execution_count": 95,
   "metadata": {},
   "outputs": [
    {
     "data": {
      "text/plain": [
       "array([[1, 2, 3],\n",
       "       [4, 5, 6],\n",
       "       [7, 8, 9]])"
      ]
     },
     "execution_count": 95,
     "metadata": {},
     "output_type": "execute_result"
    }
   ],
   "source": [
    "import numpy as np\n",
    "a=np.array([1,2,3])\n",
    "b=np.array([[4,5,6],[7,8,9]])\n",
    "np.append([a],b,axis=0)\n"
   ]
  },
  {
   "cell_type": "code",
   "execution_count": 108,
   "metadata": {},
   "outputs": [
    {
     "data": {
      "text/plain": [
       "array([[0, 1],\n",
       "       [3, 4],\n",
       "       [6, 7]])"
      ]
     },
     "execution_count": 108,
     "metadata": {},
     "output_type": "execute_result"
    }
   ],
   "source": [
    "a=np.arange(0,9).reshape(3,3)\n",
    "a[:,:2]"
   ]
  }
 ],
 "metadata": {
  "kernelspec": {
   "display_name": "Python 3.9.10 64-bit",
   "language": "python",
   "name": "python3"
  },
  "language_info": {
   "codemirror_mode": {
    "name": "ipython",
    "version": 3
   },
   "file_extension": ".py",
   "mimetype": "text/x-python",
   "name": "python",
   "nbconvert_exporter": "python",
   "pygments_lexer": "ipython3",
   "version": "3.9.10"
  },
  "orig_nbformat": 4,
  "vscode": {
   "interpreter": {
    "hash": "47e86d731e077963188d400b641a1f5cee6401b89b8a1175acb1a082248e2517"
   }
  }
 },
 "nbformat": 4,
 "nbformat_minor": 2
}
